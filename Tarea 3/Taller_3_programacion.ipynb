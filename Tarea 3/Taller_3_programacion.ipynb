{
  "cells": [
    {
      "cell_type": "markdown",
      "metadata": {
        "id": "TeugJVL_FWcH"
      },
      "source": [
        "# INSTALAR REPORTLAB"
      ]
    },
    {
      "cell_type": "code",
      "execution_count": 1,
      "metadata": {
        "colab": {
          "base_uri": "https://localhost:8080/"
        },
        "id": "wdX5suUT9lvz",
        "outputId": "683d88c7-fdfa-4bef-f17a-80162e8b6ab5"
      },
      "outputs": [
        {
          "name": "stdout",
          "output_type": "stream",
          "text": [
            "Collecting reportlab\n",
            "  Downloading reportlab-4.0.7-py3-none-any.whl (1.9 MB)\n",
            "\u001b[2K     \u001b[90m━━━━━━━━━━━━━━━━━━━━━━━━━━━━━━━━━━━━━━━━\u001b[0m \u001b[32m1.9/1.9 MB\u001b[0m \u001b[31m15.2 MB/s\u001b[0m eta \u001b[36m0:00:00\u001b[0ma \u001b[36m0:00:01\u001b[0m\n",
            "\u001b[?25hRequirement already satisfied: pillow>=9.0.0 in /opt/homebrew/Caskroom/miniconda/base/envs/DataScience/lib/python3.11/site-packages (from reportlab) (9.4.0)\n",
            "Installing collected packages: reportlab\n",
            "Successfully installed reportlab-4.0.7\n",
            "Note: you may need to restart the kernel to use updated packages.\n"
          ]
        }
      ],
      "source": [
        "%pip install reportlab"
      ]
    },
    {
      "cell_type": "code",
      "execution_count": 2,
      "metadata": {
        "colab": {
          "base_uri": "https://localhost:8080/"
        },
        "id": "7FpPSwVB-9I_",
        "outputId": "30b5158c-a2da-4c54-dc29-f4991dbaf19e"
      },
      "outputs": [
        {
          "name": "stdout",
          "output_type": "stream",
          "text": [
            "Collecting untangle\n",
            "  Downloading untangle-1.2.1-py3-none-any.whl (4.8 kB)\n",
            "Requirement already satisfied: defusedxml<0.8.0,>=0.7.1 in /opt/homebrew/Caskroom/miniconda/base/envs/DataScience/lib/python3.11/site-packages (from untangle) (0.7.1)\n",
            "Installing collected packages: untangle\n",
            "Successfully installed untangle-1.2.1\n",
            "Note: you may need to restart the kernel to use updated packages.\n"
          ]
        }
      ],
      "source": [
        "%pip install untangle"
      ]
    },
    {
      "cell_type": "markdown",
      "metadata": {
        "id": "tub5a2G4Fdbv"
      },
      "source": [
        "# IMPORTAR LIBRERIAS"
      ]
    },
    {
      "cell_type": "code",
      "execution_count": 1,
      "metadata": {
        "id": "BJC62yqTFRm7"
      },
      "outputs": [],
      "source": [
        "import os\n",
        "import xml.etree.ElementTree as ET\n",
        "from reportlab.pdfgen import canvas\n",
        "from reportlab.lib.pagesizes import letter\n",
        "from reportlab.lib import utils\n",
        "import untangle"
      ]
    },
    {
      "cell_type": "markdown",
      "metadata": {
        "id": "qhCMrj_n9oJW"
      },
      "source": [
        "#Generación de la información"
      ]
    },
    {
      "cell_type": "code",
      "execution_count": 27,
      "metadata": {
        "id": "l6XiN_oaHBlp"
      },
      "outputs": [
        {
          "name": "stdout",
          "output_type": "stream",
          "text": [
            "2.- ARQ_PUE VS EST\n",
            "Conflicto1\n",
            "Conflicto2\n",
            "Conflicto3\n",
            "Conflicto4\n",
            "Conflicto5\n",
            "Conflicto6\n",
            "Conflicto7\n",
            "Conflicto8\n",
            "Conflicto9\n",
            "Conflicto11\n",
            "Conflicto12\n",
            "Conflicto13\n",
            "Conflicto10\n",
            "Conflicto14\n",
            "Conflicto15\n",
            "Conflicto16\n",
            "Conflicto17\n",
            "Conflicto18\n",
            "Conflicto19\n",
            "Conflicto20\n",
            "Conflicto21\n",
            "Conflicto22\n"
          ]
        }
      ],
      "source": [
        "def get_info_from_xml(xml_path):\n",
        "    doc = untangle.parse(xml_path)\n",
        "    \n",
        "    contador_conflictos = 1\n",
        "    \n",
        "    main_data = doc.exchange.batchtest.clashtests.clashtest\n",
        "    \n",
        "    nombre_archivo = main_data[\"name\"]  \n",
        "    print(nombre_archivo)\n",
        "    \n",
        "    \n",
        "    clash_results = main_data.clashresults\n",
        "\n",
        "    for clashresult in clash_results.clashresult:\n",
        "        nombre_conflicto = clashresult['name']\n",
        "        imagen_filename = clashresult['href']\n",
        "        distancia = clashresult['distance']\n",
        "        clashpoint = clashresult.clashpoint.pos3f\n",
        "        x, y, z = clashpoint['x'], clashpoint['y'], clashpoint['z']\n",
        "        gridlocation = clashresult.gridlocation.cdata\n",
        "        \n",
        "        print(nombre_conflicto)\n",
        "        contador_conflictos += 1\n",
        "    \n",
        "    \n",
        "\n",
        "def generar_pdf():\n",
        "    c = canvas.Canvas(pdf_output, pagesize=letter)\n",
        "    width, height = letter\n",
        "        \n",
        "        \n",
        "xml_path = './content/01/2.- ARQ_PUE VS EST.xml'\n",
        "pdf_output = '/pdf_1.pdf'\n",
        "output_folder = '/output'\n",
        "document = get_info_from_xml(xml_path)"
      ]
    },
    {
      "cell_type": "markdown",
      "metadata": {
        "id": "gCIxuMT8Qcik"
      },
      "source": [
        "# Ejemplo de listas\n"
      ]
    },
    {
      "cell_type": "code",
      "execution_count": null,
      "metadata": {
        "id": "7B-DAK5oQbrT"
      },
      "outputs": [],
      "source": [
        "def generar_pdf(xml_path, pdf_output):\n",
        "    tree = ET.parse(xml_path)\n",
        "    root = tree.getroot()\n",
        "\n",
        "    c = canvas.Canvas(pdf_output, pagesize=letter)\n",
        "    width, height = letter\n",
        "\n",
        "    contador_conflictos = 1\n",
        "    nombres_conflictos = []\n",
        "    imagenes = []\n",
        "    \n",
        "    \n",
        "\n",
        "\n",
        "\n",
        "\n",
        "    for clashresult in root.findall('.//clashresult'):\n",
        "        nombre_conflicto = f\"Conflicto {contador_conflictos}\"\n",
        "        nombres_conflictos.append(nombre_conflicto)\n",
        "        imagen_filename = clashresult.get('href')\n",
        "        imagenes.append(imagen_filename)\n",
        "        distancia = clashresult.get('distance')\n",
        "        clashpoint = clashresult.find('.//clashpoint/pos3f')\n",
        "        x, y, z = clashpoint.get('x'), clashpoint.get('y'), clashpoint.get('z')\n",
        "        gridlocation = clashresult.find('gridlocation').text"
      ]
    },
    {
      "cell_type": "markdown",
      "metadata": {
        "id": "JQWqqb5aFfn-"
      },
      "source": [
        "# FUNCION GENERAR PDF"
      ]
    },
    {
      "cell_type": "code",
      "execution_count": null,
      "metadata": {
        "colab": {
          "base_uri": "https://localhost:8080/",
          "height": 140
        },
        "id": "zGmbOC_aFTKL",
        "outputId": "369f0eb6-d44d-4ec6-ed44-1e7eecf22060"
      },
      "outputs": [
        {
          "ename": "SyntaxError",
          "evalue": "ignored",
          "output_type": "error",
          "traceback": [
            "\u001b[0;36m  File \u001b[0;32m\"<ipython-input-46-eac95749fea2>\"\u001b[0;36m, line \u001b[0;32m12\u001b[0m\n\u001b[0;31m    for clashtest in root.find(.//clashtest')\u001b[0m\n\u001b[0m                                           ^\u001b[0m\n\u001b[0;31mSyntaxError\u001b[0m\u001b[0;31m:\u001b[0m unterminated string literal (detected at line 12)\n"
          ]
        }
      ],
      "source": [
        "def generar_pdf(xml_path, pdf_output):\n",
        "    tree = ET.parse(xml_path)\n",
        "    root = tree.getroot()\n",
        "\n",
        "    c = canvas.Canvas(pdf_output, pagesize=letter)\n",
        "    width, height = letter\n",
        "\n",
        "    contador_conflictos = 1\n",
        "    Nombre_reporte = []\n",
        "    Tolerancia = []\n",
        "    Interferencias_totales = []\n",
        "    Interferencias_abiertas = []\n",
        "    Interferencias_resueltas = []\n",
        "    Nombres_confictos = []\n",
        "    Imagenes_reportes = []\n",
        "    Estados_interferecnias = []\n",
        "    Distancias_interferencias = []\n",
        "    Ejes_X = []\n",
        "    Ejes_Y = []\n",
        "    Ejes_Z = []\n",
        "    Nivel_interferencia = []\n",
        "    Años = []\n",
        "    Meses = []\n",
        "    Dias = []\n",
        "    Nombre_informe = []\n",
        "    ID_elemento_1 = []\n",
        "    Nivel_elemento_1 = []\n",
        "    Nombre_elemento_1 = []\n",
        "    Valor_nombre_elemento_1 = []\n",
        "    Tipo_elemento_1 = []\n",
        "    Tipo_nombre_elemento_1 = []\n",
        "    ID_elemento_2 = []\n",
        "    Nivel_elemento_2 = []\n",
        "    Nombre_elemento_2 = []\n",
        "    Valor_nombre_elemento_2 = []\n",
        "    Tipo_elemento_2 = []\n",
        "    Tipo_nombre_elemento_2 = []\n",
        "\n",
        "\n",
        "    for clashtest in root.find('.//clashtest'):\n",
        "        nombre_todo = clashtest.get('name')\n",
        "        Nombre_reporte.append(nombre_todo)\n",
        "        tolerancia = clashtest.get('tolerance')\n",
        "        Tolerancia.append(tolerancia)\n",
        "        summary = clashtest.find('.//summary')\n",
        "        interferencias_totales = summary.get('total')\n",
        "        Interferencias_totales.append('interferencias_totales')\n",
        "        interferencias_abiertas = summary.get('active')\n",
        "        Interferencias_abiertas.append('interferencias_abiertas')\n",
        "        interferencias_resueltas = summary.get('resolved')\n",
        "        Interferencias_resueltas.append('interferencias_resueltas')\n",
        "      for clashresult in root.findall('.//clashresult'):\n",
        "          nombre_conflicto = f\"Conflicto {contador_conflictos}\"\n",
        "          Nombres_confictos.append('nombre_conflicto')\n",
        "          imagen_filename = clashresult.get('href')\n",
        "          Imagenes_reportes.append('imagen_filename')\n",
        "          estado_interferencia = clashresult.get('status')\n",
        "          Estados_interferecnias.append('estado_interferencia')\n",
        "          distancia = clashresult.get('distance')\n",
        "          Distancias_interferencias.append('distancia')\n",
        "          clashpoint = clashresult.find('.//clashpoint/pos3f')\n",
        "          x, y, z = clashpoint.get('x'), clashpoint.get('y'), clashpoint.get('z')\n",
        "          Ejes_X.append('x')\n",
        "          Ejes_Y.append('y')\n",
        "          Ejes_Z.append('z')\n",
        "          gridlocation = clashresult.find('.//gridlocation').text\n",
        "          nivel = gridlocation.cdata\n",
        "          Nivel_interferencia.append('nivel')\n",
        "          date = clashresult.find('.//createddate/date')\n",
        "          año, mes, día = date.get('year'), date.get('month'),date.get('day')\n",
        "          Años.append('año')\n",
        "          Meses.append('mes')\n",
        "          Dias.append('día')\n",
        "          for clashobjects in root.find('.//clashobject'[0]):\n",
        "            id1 = objectattribute.value.cdata\n",
        "            ID_elemento_1.append('id1')\n",
        "            nivel1 = layer.cdata\n",
        "            Nivel_elemento_1.append('nivel1')\n",
        "            nombre1.1 = smarttags.smarttag[0].name.cdata\n",
        "            Nombre_elemento_1.append('nombre1.1')\n",
        "            tipo1.1 = smarttags.smarttag[0].value.cdata\n",
        "            Valor_nombre_elemento_1.append('tipo1.1')\n",
        "            nombre1.2 = smarttags.smarttag[1].name.cdata\n",
        "            Tipo_elemento_1.append('nombre1.2')\n",
        "            tipo1.2 = smarttags.smarttag[1].value.cdata\n",
        "            Tipo_nombre_elemento_1.append('tipo1.2')\n",
        "          for clashobjects in root.find('.//clashobject'[1]):\n",
        "            id2 = objectattribute.value.cdata\n",
        "            ID_elemento_2.append('id2')\n",
        "            nivel2 = layer.cdata\n",
        "            Nivel_elemento_2.append('nivel2')\n",
        "            nombre2.1 = smarttags.smarttag[0].name.cdata\n",
        "            Nombre_elemento_2.append('nombre2.1')\n",
        "            tipo2.1 = smarttags.smarttag[0].value.cdata\n",
        "            Valor_nombre_elemento_2.append('tipo2.1')\n",
        "            nombre2.2 = smarttags.smarttag[1].name.cdata\n",
        "            Tipo_elemento_2.append('nombre2.2')\n",
        "            tipo2.2 = smarttags.smarttag[1].value.cdata\n",
        "            Tipo_nombre_elemento_2.append('tipo2.2')\n",
        "\n",
        "\n",
        "        # Agregar detalles al PDF\n",
        "        c.drawString(10, height - 50, f\"Nombre del conflicto: {nombre_conflicto}\")\n",
        "        c.drawString(10, height - 70, f\"Distancia: {distancia}\")\n",
        "        c.drawString(10, height - 90, f\"Coordenadas del punto de conflicto: ({x}, {y}, {z})\")\n",
        "        c.drawString(10, height - 110, f\"Ubicación en la cuadrícula: {gridlocation}\")\n",
        "\n",
        "        # Obtener la imagen asociada\n",
        "        imagen_path = os.path.join(os.path.dirname(xml_path), imagen_filename.replace('\\\\', '/'))\n",
        "        imagen = utils.ImageReader(imagen_path)\n",
        "        c.drawImage(imagen, 10, height - 250, width=400, height=200)\n",
        "\n",
        "        # Agregar un salto de página para la próxima interferencia\n",
        "        c.showPage()\n",
        "\n",
        "        contador_conflictos += 1\n",
        "\n",
        "    c.save()\n",
        "    return nombres_conflictos, nombres_conflictos, nombres_conflictos\n",
        "\n",
        "xml_path = '/content/2.- ARQ_PUE VS EST.xml'\n",
        "pdf_output = '/content/downloads/resultado.pdf'\n",
        "\n",
        "generar_pdf(xml_path, pdf_output)"
      ]
    },
    {
      "cell_type": "markdown",
      "metadata": {
        "id": "C7usZczXFi6e"
      },
      "source": [
        "# VARIABLES PARA LA FUNCION"
      ]
    },
    {
      "cell_type": "code",
      "execution_count": null,
      "metadata": {
        "id": "0bmtT5BQFUOF"
      },
      "outputs": [],
      "source": [
        "xml_path = '/content/2.- ARQ_PUE VS EST.xml'\n",
        "pdf_output = '/content/downloads/resultado.pdf'\n"
      ]
    },
    {
      "cell_type": "markdown",
      "metadata": {
        "id": "IYZLB2U1FlRn"
      },
      "source": [
        "# EJECUTAR FUNCION"
      ]
    },
    {
      "cell_type": "code",
      "execution_count": null,
      "metadata": {
        "id": "JQ_XnGwpFVQJ"
      },
      "outputs": [],
      "source": [
        "generar_pdf(xml_path, pdf_output)"
      ]
    }
  ],
  "metadata": {
    "colab": {
      "provenance": [],
      "toc_visible": true
    },
    "kernelspec": {
      "display_name": "Python 3",
      "name": "python3"
    },
    "language_info": {
      "codemirror_mode": {
        "name": "ipython",
        "version": 3
      },
      "file_extension": ".py",
      "mimetype": "text/x-python",
      "name": "python",
      "nbconvert_exporter": "python",
      "pygments_lexer": "ipython3",
      "version": "3.11.3"
    }
  },
  "nbformat": 4,
  "nbformat_minor": 0
}
